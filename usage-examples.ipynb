{
 "cells": [
  {
   "cell_type": "markdown",
   "source": [
    "# ``aws_console_url`` Usage Example\n",
    "\n",
    "You need to create an ``AWSConsole`` object. It is a virtual AWS Console that can view AWS resources by URL."
   ],
   "metadata": {
    "collapsed": false
   }
  },
  {
   "cell_type": "code",
   "execution_count": 1,
   "outputs": [],
   "source": [
    "import aws_console_url.api as aws_console_url\n",
    "\n",
    "console = aws_console_url.AWSConsole(aws_account_id=\"111122223333\", aws_region=\"us-east-1\")"
   ],
   "metadata": {
    "collapsed": false,
    "ExecuteTime": {
     "start_time": "2023-09-22T22:58:21.014862Z",
     "end_time": "2023-09-22T22:58:21.120299Z"
    }
   }
  },
  {
   "cell_type": "code",
   "execution_count": 2,
   "outputs": [
    {
     "data": {
      "text/plain": "'https://us-east-1.console.aws.amazon.com/iamv2/home?#/roles'"
     },
     "execution_count": 2,
     "metadata": {},
     "output_type": "execute_result"
    }
   ],
   "source": [
    "console.iam.roles"
   ],
   "metadata": {
    "collapsed": false,
    "ExecuteTime": {
     "start_time": "2023-09-22T22:58:29.141235Z",
     "end_time": "2023-09-22T22:58:29.144471Z"
    }
   }
  },
  {
   "cell_type": "code",
   "execution_count": 3,
   "outputs": [
    {
     "data": {
      "text/plain": "'https://us-east-1.console.aws.amazon.com/iamv2/home#/roles/details/my-ec2-role?section=permissions'"
     },
     "execution_count": 3,
     "metadata": {},
     "output_type": "execute_result"
    }
   ],
   "source": [
    "console.iam.get_role(\"my-ec2-role\")"
   ],
   "metadata": {
    "collapsed": false,
    "ExecuteTime": {
     "start_time": "2023-09-22T22:58:29.722711Z",
     "end_time": "2023-09-22T22:58:29.724827Z"
    }
   }
  },
  {
   "cell_type": "code",
   "execution_count": 4,
   "outputs": [
    {
     "data": {
      "text/plain": "'https://us-east-1.console.aws.amazon.com/dynamodbv2/home?region=us-east-1#tables'"
     },
     "execution_count": 4,
     "metadata": {},
     "output_type": "execute_result"
    }
   ],
   "source": [
    "console.dynamodb.tables"
   ],
   "metadata": {
    "collapsed": false,
    "ExecuteTime": {
     "start_time": "2023-09-22T22:58:31.519813Z",
     "end_time": "2023-09-22T22:58:31.523421Z"
    }
   }
  },
  {
   "cell_type": "code",
   "execution_count": 5,
   "outputs": [
    {
     "data": {
      "text/plain": "'https://us-east-1.console.aws.amazon.com/dynamodbv2/home?region=us-east-1#item-explorer?initialTagKey=&maximize=true&table=my-table'"
     },
     "execution_count": 5,
     "metadata": {},
     "output_type": "execute_result"
    }
   ],
   "source": [
    "console.dynamodb.get_table_items(\"my-table\")"
   ],
   "metadata": {
    "collapsed": false,
    "ExecuteTime": {
     "start_time": "2023-09-22T22:58:33.029162Z",
     "end_time": "2023-09-22T22:58:33.034950Z"
    }
   }
  },
  {
   "cell_type": "markdown",
   "source": [
    "Some method need to make API call to get more detailed information, so we need to give the AWSConsole a boto session manager object."
   ],
   "metadata": {
    "collapsed": false
   }
  },
  {
   "cell_type": "code",
   "execution_count": 6,
   "outputs": [
    {
     "data": {
      "text/plain": "'https://us-east-1.console.aws.amazon.com/cloudformation/home?region=us-east-1#/stacks/stackinfo?stackId=arn:aws:cloudformation:us-east-1:111122223333:stack/CDKToolkit/d8677750-1d2c-11ee-b9bb-0e26849ff9df'"
     },
     "execution_count": 6,
     "metadata": {},
     "output_type": "execute_result"
    }
   ],
   "source": [
    "from boto_session_manager import BotoSesManager\n",
    "\n",
    "bsm = BotoSesManager(profile_name=\"my_aws_profile\")\n",
    "console = aws_console_url.AWSConsole(\n",
    "    aws_account_id=bsm.aws_account_id,\n",
    "    aws_region=bsm.aws_region,\n",
    "    bsm=bsm,\n",
    ")\n",
    "console.cloudformation.get_stack(\"CDKToolkit\")"
   ],
   "metadata": {
    "collapsed": false,
    "ExecuteTime": {
     "start_time": "2023-09-22T22:59:32.666263Z",
     "end_time": "2023-09-22T22:59:32.945150Z"
    }
   }
  },
  {
   "cell_type": "code",
   "execution_count": null,
   "outputs": [],
   "source": [],
   "metadata": {
    "collapsed": false
   }
  }
 ],
 "metadata": {
  "kernelspec": {
   "display_name": "Python 3",
   "language": "python",
   "name": "python3"
  },
  "language_info": {
   "codemirror_mode": {
    "name": "ipython",
    "version": 2
   },
   "file_extension": ".py",
   "mimetype": "text/x-python",
   "name": "python",
   "nbconvert_exporter": "python",
   "pygments_lexer": "ipython2",
   "version": "2.7.6"
  }
 },
 "nbformat": 4,
 "nbformat_minor": 0
}
